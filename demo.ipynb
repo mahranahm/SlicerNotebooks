import JupyterNotebooksLib as slicernb

# Set image viewer size to 50% (fill half of a cell)
slicernb.AppWindow.setWindowSize(scale=0.5)
# Hide patient information from slice view
slicernb.showSliceViewAnnotations(False)

# Clear scene
slicer.mrmlScene.Clear(False)

modelNode=slicer.modules.models.logic().AddModel(slicernb.localPath("data/heart.stl"))
